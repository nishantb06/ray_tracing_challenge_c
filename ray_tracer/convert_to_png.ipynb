{
 "cells": [
  {
   "cell_type": "code",
   "execution_count": 5,
   "metadata": {},
   "outputs": [],
   "source": [
    "from PIL import Image\n",
    "\n",
    "def convert_ppm_to_png(ppm_file_path, png_file_path):\n",
    "    \"\"\"\n",
    "    Converts a PPM image to a PNG image.\n",
    "\n",
    "    :param ppm_file_path: The file path of the source PPM image.\n",
    "    :param png_file_path: The desired file path for the output PNG image.\n",
    "    \"\"\"\n",
    "    # Open the PPM image\n",
    "    with Image.open(ppm_file_path) as img:\n",
    "        # Convert and save the image in PNG format\n",
    "        img.save(png_file_path, \"PNG\")\n",
    "\n",
    "# Example usage\n",
    "convert_ppm_to_png(\"sphere.ppm\", \"sphere_transformed.png\")\n"
   ]
  },
  {
   "cell_type": "code",
   "execution_count": null,
   "metadata": {},
   "outputs": [],
   "source": []
  }
 ],
 "metadata": {
  "kernelspec": {
   "display_name": "Python 3",
   "language": "python",
   "name": "python3"
  },
  "language_info": {
   "codemirror_mode": {
    "name": "ipython",
    "version": 3
   },
   "file_extension": ".py",
   "mimetype": "text/x-python",
   "name": "python",
   "nbconvert_exporter": "python",
   "pygments_lexer": "ipython3",
   "version": "3.9.6"
  }
 },
 "nbformat": 4,
 "nbformat_minor": 2
}
